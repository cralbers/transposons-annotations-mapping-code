{
 "cells": [
  {
   "cell_type": "code",
   "execution_count": 1,
   "id": "af072756",
   "metadata": {
    "ExecuteTime": {
     "end_time": "2022-08-17T21:56:28.463054Z",
     "start_time": "2022-08-17T21:56:28.455367Z"
    }
   },
   "outputs": [
    {
     "name": "stderr",
     "output_type": "stream",
     "text": [
      "/var/folders/bz/1k14jvcn01d070lxm_c__h800000gn/T/ipykernel_22371/3777615979.py:1: DeprecationWarning: Importing display from IPython.core.display is deprecated since IPython 7.14, please import from IPython display\n",
      "  from IPython.core.display import display, HTML\n"
     ]
    },
    {
     "data": {
      "text/html": [
       "<style>.container { width:100% !important; }</style>"
      ],
      "text/plain": [
       "<IPython.core.display.HTML object>"
      ]
     },
     "metadata": {},
     "output_type": "display_data"
    }
   ],
   "source": [
    "from IPython.core.display import display, HTML\n",
    "display(HTML(\"<style>.container { width:100% !important; }</style>\"))"
   ]
  },
  {
   "cell_type": "markdown",
   "id": "6753bba4",
   "metadata": {},
   "source": [
    "# TRANSPOSON ANNOTATION"
   ]
  },
  {
   "cell_type": "markdown",
   "id": "a98c8d42-bd97-42d7-a078-c6da56867d76",
   "metadata": {},
   "source": [
    "## annotate genome using Transposon Ultimate tools\n",
    "github link for reasonaTE: https://github.com/DerKevinRiehl/transposon_annotation_reasonaTE"
   ]
  },
  {
   "cell_type": "markdown",
   "id": "4de39142-dcc5-41a4-8457-c1140dd763fe",
   "metadata": {},
   "source": [
    "### install reasonaTE conda environment and necessary packages\n",
    "1. this could take some trial and error- I didn't have any luck using mamba to install any of the conda packages, and eventually ended up using a janky combination of the .yml environment files and conda commands\n",
    "2. I would suggest just trying the .yml initially, rather than messing with the individual conda/mamba installations but do whatever\n",
    "\n",
    "3. in the end, you need to end up with 2 different environments- call them what you will, but they are referred to in the reasonaTE docs as transposon_annotation_tools_env and transposon_annotation_reasonaTE so that's what I used for simplicity's sake\n"
   ]
  },
  {
   "cell_type": "markdown",
   "id": "02de8f28-d4d6-4ea8-bbe0-b12d67937b19",
   "metadata": {},
   "source": [
    "### create project workspace on Talapas with input genome"
   ]
  },
  {
   "cell_type": "markdown",
   "id": "a7312dec-9c1a-4963-844d-24d50ced031e",
   "metadata": {
    "tags": []
   },
   "source": [
    "### annotate genome using specific Transposon Ultimate tools:\n",
    "- helitronScanner\n",
    "- mitefind\n",
    "- mitetracker\n",
    "- repeatmodel (RepeatModeler)\n",
    "- repMasker (RepeatMasker)\n",
    "- sinescan\n",
    "- tirvish\n",
    "- transposonPSI\n",
    "- NCBICDD1000"
   ]
  },
  {
   "cell_type": "markdown",
   "id": "32e247c7-d033-45c5-b013-98faeccbdfea",
   "metadata": {},
   "source": [
    "## manually annotate genome"
   ]
  },
  {
   "cell_type": "markdown",
   "id": "46586efe-36f6-4a40-918b-1b73ba7d9f43",
   "metadata": {},
   "source": [
    "### MUST\n",
    "* paper link: https://www.degruyter.com/document/doi/10.1515/jib-2017-0029/html?lang=en\n",
    "* program download link: http://www.healthinformaticslab.org/supp/resources.php\n",
    "    * yes, this looks sketchy\n",
    "    * it will be ok\n",
    "    * use cmd-F and search for MUST, download the tar.gz file titled  \"MUST.r2-4-002.Release.tar.gz\""
   ]
  },
  {
   "cell_type": "markdown",
   "id": "9dfef065-c417-4450-a20a-d9b9f858a292",
   "metadata": {},
   "source": [
    "#### dependencies\n",
    "- NCBI BLAST version 2.2.11 (version used for publication)\n",
    "- BLAT version 3.5 (version used for publication)\n",
    "- \"open-3.3.0” version of RepeatMasker with the revision 1.250 (version used for publication)\n",
    "- languages:\n",
    "    - Perl\n",
    "    - C/C++\n",
    "    - Bash\n",
    "- BioPerl"
   ]
  },
  {
   "cell_type": "markdown",
   "id": "22383317-27d2-44ec-bb61-d344ed23687a",
   "metadata": {},
   "source": [
    "### LTR Retriever\n",
    "* paper link: https://academic.oup.com/plphys/article/176/2/1410/6117145?login=true\n",
    "* program download link: https://github.com/oushujun/LTR_retriever\n",
    "* conda download! very easy to follow installation directions on github\n",
    "* inputs:\n",
    "    * genome (in fasta format) \n",
    "    * LTR RT candidates (from any combination of LTR Finder, LTRHarvest, LTR_STRUC, MGEScan 3.0.0, and LtrDetector)"
   ]
  },
  {
   "cell_type": "markdown",
   "id": "60253d47-c9c3-4c07-a3b8-1b7c18fd674f",
   "metadata": {},
   "source": [
    "#### dependencies\n",
    "- TRF \n",
    "- BLAST+ \n",
    "- BLAST or CD-HIT\n",
    "- HMMER\n",
    "- RepeatMasker"
   ]
  },
  {
   "cell_type": "markdown",
   "id": "934502ad-48d5-4d4f-9104-8ef1185cec0c",
   "metadata": {},
   "source": [
    "#### getting LTR RT candidates\n",
    "- sufficient to use only results from LTR Finder and LTR Harvest (also the output files from these two LTR RT candidate finders do not have to be altered for input into LTR Retriever!)"
   ]
  },
  {
   "cell_type": "markdown",
   "id": "3502ab3c-166b-401d-b9bb-b5c08e0a5948",
   "metadata": {},
   "source": []
  },
  {
   "cell_type": "markdown",
   "id": "a86e665d-59d3-4b1e-8313-b7d6bb438c85",
   "metadata": {},
   "source": [
    "### SINE Finder\n",
    "* paper link: https://academic.oup.com/plcell/article/23/9/3117/6097673\n",
    "* the program is located in the supplemental material of the paper (the alternate download link listed (german website) doesn't work, but you can try :))\n",
    "    * kind of tricky to find: \n",
    "    1. download the supp material\n",
    "    2. actual python script is Supp Data File 1 (txt file)\n",
    "    3. make a copy or resave this .txt file as a .py file so that it will be recognized as a python script\n",
    "* inputs:\n",
    "    * genome in fasta format (accepts .fas, .FASTA, and .mfa file extensions)\n",
    "* outputs:\n",
    "    * "
   ]
  },
  {
   "cell_type": "markdown",
   "id": "7f7d38f3-0b5c-4ee8-86d4-7c85d4adc3fd",
   "metadata": {},
   "source": [
    "#### dependencies \n",
    "* Python (minimum v2.5)"
   ]
  },
  {
   "cell_type": "markdown",
   "id": "d4181b3f-0590-47a0-9ac7-883f6d2fab55",
   "metadata": {},
   "source": [
    "#### important notes\n",
    "* NEED TO RUN CHUNK-WISE\n",
    "    * this is why this program must be run manually- when run through the conda wrapper in Transposon Ultimate, the python recursive memory limit is exceeded for large genomes because SINE Finder is run in seqwise mode, resulting in incomplete annotations\n",
    "    * USE EXTENSION: $ -T 'chunkwise'"
   ]
  },
  {
   "cell_type": "markdown",
   "id": "45211004-9bdf-49d8-b4c0-223bce0197da",
   "metadata": {},
   "source": []
  }
 ],
 "metadata": {
  "@deathbeds/ipydrawio": {
   "xml": ""
  },
  "kernelspec": {
   "display_name": "Python 3 (ipykernel)",
   "language": "python",
   "name": "python3"
  },
  "language_info": {
   "codemirror_mode": {
    "name": "ipython",
    "version": 3
   },
   "file_extension": ".py",
   "mimetype": "text/x-python",
   "name": "python",
   "nbconvert_exporter": "python",
   "pygments_lexer": "ipython3",
   "version": "3.10.2"
  },
  "toc": {
   "base_numbering": 1,
   "nav_menu": {},
   "number_sections": true,
   "sideBar": false,
   "skip_h1_title": false,
   "title_cell": "Table of Contents",
   "title_sidebar": "Contents",
   "toc_cell": false,
   "toc_position": {},
   "toc_section_display": true,
   "toc_window_display": false
  },
  "toc-autonumbering": true,
  "toc-showmarkdowntxt": false,
  "toc-showtags": false,
  "varInspector": {
   "cols": {
    "lenName": 16,
    "lenType": 16,
    "lenVar": 40
   },
   "kernels_config": {
    "python": {
     "delete_cmd_postfix": "",
     "delete_cmd_prefix": "del ",
     "library": "var_list.py",
     "varRefreshCmd": "print(var_dic_list())"
    },
    "r": {
     "delete_cmd_postfix": ") ",
     "delete_cmd_prefix": "rm(",
     "library": "var_list.r",
     "varRefreshCmd": "cat(var_dic_list()) "
    }
   },
   "types_to_exclude": [
    "module",
    "function",
    "builtin_function_or_method",
    "instance",
    "_Feature"
   ],
   "window_display": false
  }
 },
 "nbformat": 4,
 "nbformat_minor": 5
}
