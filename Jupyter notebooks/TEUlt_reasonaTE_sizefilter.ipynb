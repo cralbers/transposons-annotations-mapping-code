{
 "cells": [
  {
   "cell_type": "markdown",
   "id": "6f713bde",
   "metadata": {
    "toc": true
   },
   "source": [
    "<h1>Table of Contents<span class=\"tocSkip\"></span></h1>\n",
    "<div class=\"toc\"><ul class=\"toc-item\"><li><span><a href=\"#imports\" data-toc-modified-id=\"imports-1\"><span class=\"toc-item-num\">1&nbsp;&nbsp;</span>imports</a></span></li><li><span><a href=\"#build_TE_df_from_gff3\" data-toc-modified-id=\"build_TE_df_from_gff3-2\"><span class=\"toc-item-num\">2&nbsp;&nbsp;</span>build_TE_df_from_gff3</a></span></li><li><span><a href=\"#import-N2-and-CB-gff3-files-and-make-ginormous-df's\" data-toc-modified-id=\"import-N2-and-CB-gff3-files-and-make-ginormous-df's-3\"><span class=\"toc-item-num\">3&nbsp;&nbsp;</span>import N2 and CB gff3 files and make ginormous df's</a></span><ul class=\"toc-item\"><li><span><a href=\"#get-chromosome-lengths\" data-toc-modified-id=\"get-chromosome-lengths-3.1\"><span class=\"toc-item-num\">3.1&nbsp;&nbsp;</span>get chromosome lengths</a></span><ul class=\"toc-item\"><li><span><a href=\"#get_chr_file-(import-chr-file-and-make-df)\" data-toc-modified-id=\"get_chr_file-(import-chr-file-and-make-df)-3.1.1\"><span class=\"toc-item-num\">3.1.1&nbsp;&nbsp;</span>get_chr_file (import chr file and make df)</a></span></li><li><span><a href=\"#fix_chr_names\" data-toc-modified-id=\"fix_chr_names-3.1.2\"><span class=\"toc-item-num\">3.1.2&nbsp;&nbsp;</span>fix_chr_names</a></span></li></ul></li><li><span><a href=\"#get_relative_positions-(calculate-relative-start-positions-of-transposons-using-chr-lengths-from-chr_df)\" data-toc-modified-id=\"get_relative_positions-(calculate-relative-start-positions-of-transposons-using-chr-lengths-from-chr_df)-3.2\"><span class=\"toc-item-num\">3.2&nbsp;&nbsp;</span>get_relative_positions (calculate relative start positions of transposons using chr lengths from chr_df)</a></span></li></ul></li><li><span><a href=\"#create_small_range_dataframe\" data-toc-modified-id=\"create_small_range_dataframe-4\"><span class=\"toc-item-num\">4&nbsp;&nbsp;</span>create_small_range_dataframe</a></span></li><li><span><a href=\"#run\" data-toc-modified-id=\"run-5\"><span class=\"toc-item-num\">5&nbsp;&nbsp;</span>run</a></span><ul class=\"toc-item\"><li><span><a href=\"#define-chrom-lengths\" data-toc-modified-id=\"define-chrom-lengths-5.1\"><span class=\"toc-item-num\">5.1&nbsp;&nbsp;</span>define chrom lengths</a></span></li><li><span><a href=\"#define-filenames,-generate-dataframes\" data-toc-modified-id=\"define-filenames,-generate-dataframes-5.2\"><span class=\"toc-item-num\">5.2&nbsp;&nbsp;</span>define filenames, generate dataframes</a></span></li><li><span><a href=\"#make-CB-gff3\" data-toc-modified-id=\"make-CB-gff3-5.3\"><span class=\"toc-item-num\">5.3&nbsp;&nbsp;</span>make CB gff3</a></span></li><li><span><a href=\"#make-N2-gff3\" data-toc-modified-id=\"make-N2-gff3-5.4\"><span class=\"toc-item-num\">5.4&nbsp;&nbsp;</span>make N2 gff3</a></span></li><li><span><a href=\"#get-index-of-largest-TE-in-N2-and-make-histogram\" data-toc-modified-id=\"get-index-of-largest-TE-in-N2-and-make-histogram-5.5\"><span class=\"toc-item-num\">5.5&nbsp;&nbsp;</span>get index of largest TE in N2 and make histogram</a></span></li></ul></li><li><span><a href=\"#calculate-percent-of-genome-that-is-TEs\" data-toc-modified-id=\"calculate-percent-of-genome-that-is-TEs-6\"><span class=\"toc-item-num\">6&nbsp;&nbsp;</span>calculate percent of genome that is TEs</a></span></li></ul></div>"
   ]
  },
  {
   "cell_type": "markdown",
   "id": "2611c958",
   "metadata": {},
   "source": [
    "# imports"
   ]
  },
  {
   "cell_type": "code",
   "execution_count": 15,
   "id": "a22cb473",
   "metadata": {
    "ExecuteTime": {
     "end_time": "2022-09-02T14:17:44.037617Z",
     "start_time": "2022-09-02T14:17:44.029297Z"
    }
   },
   "outputs": [
    {
     "name": "stderr",
     "output_type": "stream",
     "text": [
      "/var/folders/bz/1k14jvcn01d070lxm_c__h800000gn/T/ipykernel_22144/3731248649.py:1: DeprecationWarning: Importing display from IPython.core.display is deprecated since IPython 7.14, please import from IPython display\n",
      "  from IPython.core.display import display, HTML\n"
     ]
    },
    {
     "data": {
      "text/html": [
       "<style>.container { width:100% !important; }</style>"
      ],
      "text/plain": [
       "<IPython.core.display.HTML object>"
      ]
     },
     "metadata": {},
     "output_type": "display_data"
    }
   ],
   "source": [
    "from IPython.core.display import display, HTML\n",
    "from joypy import joyplot\n",
    "import plotly.express as px\n",
    "\n",
    "display(HTML(\"<style>.container { width:100% !important; }</style>\"))\n",
    "from matplotlib import cm\n",
    "sns.set(style=\"white\")\n",
    "import proplot as pplt\n",
    "from matplotlib.colors import ListedColormap, LinearSegmentedColormap\n",
    "from matplotlib.patches import Patch"
   ]
  },
  {
   "cell_type": "markdown",
   "id": "010cc99f",
   "metadata": {},
   "source": [
    "# build_TE_df_from_gff3"
   ]
  },
  {
   "cell_type": "code",
   "execution_count": 16,
   "id": "ca9af1fe",
   "metadata": {
    "ExecuteTime": {
     "end_time": "2022-09-02T14:17:44.902626Z",
     "start_time": "2022-09-02T14:17:44.893975Z"
    }
   },
   "outputs": [],
   "source": [
    "def build_TE_df_from_gff3(gff3_file):\n",
    "    \n",
    "    gff_chrom_id = ['seq1', 'seq2', 'seq3', 'seq4', 'seq5', 'seq6']\n",
    "    chromosomes = ['Chr I', 'Chr II', 'Chr III', 'Chr IV', 'Chr V', 'X Chr']\n",
    "#     chromosomes = ['chrI', 'chrII', 'chrIII', 'chrIV', 'chrV', 'chrX']\n",
    "    \n",
    "    gff_list = []\n",
    "    \n",
    "    with open(gff3_file, newline = '') as lines:                #open gff file, take as tab delimited, create huge list that is the gff file\n",
    "        line_reader = csv.reader(lines, delimiter='\\t')\n",
    "        for line in line_reader:\n",
    "                gff_list.append(line)\n",
    "\n",
    "    gff_data = []\n",
    "    \n",
    "    for i in range(len(gff_list)):\n",
    "        \n",
    "#         print(i)\n",
    "        temp = [ gff_list[i][0], int(gff_list[i][3]), int(gff_list[i][4]), gff_list[i][5], gff_list[i][6] ] #chromsome, start, end, score, strand...\n",
    "        \n",
    "        size = int(gff_list[i][4]) - int(gff_list[i][3]) ##get TE size (stop_pos - start_pos) \n",
    "        temp.append(size)\n",
    "        \n",
    "        class_start = gff_list[i][8].find('(') +1\n",
    "        class_end = gff_list[i][8].find(')')\n",
    "        \n",
    "        class_info = gff_list[i][8][class_start:class_end].split(',') #find transposon class info/descriptions \n",
    "        \n",
    "        if len(class_info) == 3: ##if not a helitron...\n",
    "            \n",
    "            family = class_info[0]\n",
    "            sub_class = class_info[1]\n",
    "            main_class = class_info[2]\n",
    "\n",
    "\n",
    "            temp.append(family)\n",
    "            temp.append(sub_class)\n",
    "            temp.append(main_class) ##add these three class/ID fields to the temp line\n",
    "            \n",
    "        elif len(class_info) == 2: #if a helitron...\n",
    "            \n",
    "            family = class_info[0]\n",
    "            sub_class = '...'\n",
    "            main_class = class_info[1]\n",
    "\n",
    "\n",
    "            temp.append(family)\n",
    "            temp.append(sub_class)\n",
    "            temp.append(main_class) ##add these three class/ID fields to the temp line\n",
    "            \n",
    "        \n",
    "        gff_data.append(temp) ##append each \"line\" to data list of lists\n",
    "      \n",
    "    gff_df = pd.DataFrame(gff_data, columns=[\"Chromosome\", \"Start\", \"Stop\", \"Score:Probability\", \"Strand\", 'Size', 'Family', 'Subclass', 'Class']) #turn list of lists into dataframe\n",
    "    \n",
    "    for i in range(6):\n",
    "        \n",
    "        gff_df['Chromosome'] = gff_df['Chromosome'].replace(gff_chrom_id[i], chromosomes[i]) ##replace TransposonUltimate chromosome names with something better\n",
    "        \n",
    "    gff_df_sorted = gff_df.sort_values(by=['Chromosome', 'Start'], axis=0, ascending=True, ignore_index=True) ##sort by chromosome name first, then starting position within each chromosome, reindex rows...\n",
    "    \n",
    "    return gff_df_sorted, gff_list"
   ]
  },
  {
   "cell_type": "markdown",
   "id": "72ace1c6",
   "metadata": {},
   "source": [
    "# import N2 and CB gff3 files and make ginormous df's\n",
    "## get chromosome lengths\n",
    "### get_chr_file (import chr file and make df)"
   ]
  },
  {
   "cell_type": "code",
   "execution_count": 17,
   "id": "2fa19366",
   "metadata": {
    "ExecuteTime": {
     "end_time": "2022-09-02T14:17:45.625035Z",
     "start_time": "2022-09-02T14:17:45.616937Z"
    }
   },
   "outputs": [],
   "source": [
    "def get_chr_file(chr_lengths_file):\n",
    "    chr_lines_list = []\n",
    "    with open(chr_lengths_file, newline = '') as chr_lines:\n",
    "        chr_line_reader = csv.reader(chr_lines, delimiter='\\t')\n",
    "        for line in chr_line_reader:\n",
    "            chr_lines_list.append(line)\n",
    "            \n",
    "    N2_chr_list = []\n",
    "    CB_chr_list = []\n",
    "    for i in range(len(chr_lines_list)):\n",
    "        \n",
    "        if chr_lines_list[i][0] == 'Chr':\n",
    "            continue\n",
    "            \n",
    "        elif chr_lines_list[i][3] == 'Libuda N2':\n",
    "            chr_lines_list[i][2] = int(chr_lines_list[i][2])\n",
    "            N2_chr_list.append(chr_lines_list[i])\n",
    "            \n",
    "        elif chr_lines_list[i][3] == 'Libuda CB':\n",
    "            chr_lines_list[i][2] = int(chr_lines_list[i][2])\n",
    "            CB_chr_list.append(chr_lines_list[i])\n",
    "            \n",
    "    N2_chr_df = pd.DataFrame(N2_chr_list, columns = ['chr', 'start', 'end', 'strain'])\n",
    "    \n",
    "\n",
    "    CB_chr_df = pd.DataFrame(CB_chr_list, columns = ['chr', 'start', 'end', 'strain'])\n",
    "            \n",
    "    return N2_chr_df, CB_chr_df\n"
   ]
  },
  {
   "cell_type": "markdown",
   "id": "6b86def0",
   "metadata": {},
   "source": [
    "### fix_chr_names"
   ]
  },
  {
   "cell_type": "code",
   "execution_count": 18,
   "id": "84c429a5",
   "metadata": {
    "ExecuteTime": {
     "end_time": "2022-09-02T14:17:46.519485Z",
     "start_time": "2022-09-02T14:17:46.512739Z"
    }
   },
   "outputs": [],
   "source": [
    "def fix_chr_names(dataframe):\n",
    "    for index, row in dataframe.iterrows():\n",
    "        if dataframe.at[index, 'chr'] == 'I':\n",
    "            dataframe.at[index, 'chr'] = 'Chr I'\n",
    "        elif dataframe.at[index, 'chr'] == 'II':\n",
    "            dataframe.at[index, 'chr'] = 'Chr II'\n",
    "        elif dataframe.at[index, 'chr'] == 'III':\n",
    "            dataframe.at[index, 'chr'] = 'Chr III'\n",
    "        elif dataframe.at[index, 'chr'] == 'IV':\n",
    "            dataframe.at[index, 'chr'] = 'Chr IV'\n",
    "        elif dataframe.at[index, 'chr'] == 'V':\n",
    "            dataframe.at[index, 'chr'] = 'Chr V'\n",
    "        elif dataframe.at[index, 'chr'] == 'X':\n",
    "            dataframe.at[index, 'chr'] = 'X Chr'\n"
   ]
  },
  {
   "cell_type": "markdown",
   "id": "4b4070dc",
   "metadata": {},
   "source": [
    "## get_relative_positions (calculate relative start positions of transposons using chr lengths from chr_df)"
   ]
  },
  {
   "cell_type": "code",
   "execution_count": 10,
   "id": "05b631c0",
   "metadata": {
    "ExecuteTime": {
     "end_time": "2022-09-02T14:17:12.866761Z",
     "start_time": "2022-09-02T14:17:12.861362Z"
    }
   },
   "outputs": [],
   "source": [
    "def get_relative_positions(all_df, chr_df):\n",
    "    for index, row in all_df.iterrows():\n",
    "        for cindex, crow in chr_df.iterrows():\n",
    "            if all_df.at[index, 'Chromosome'] == chr_df.at[cindex, 'chr']: # if the same chr\n",
    "                all_df.at[index, 'Relative Start Position'] = int(all_df.at[index, 'Start']) / int(chr_df.at[cindex, 'end']) #\n",
    "\n"
   ]
  },
  {
   "cell_type": "markdown",
   "id": "bad03cca",
   "metadata": {},
   "source": [
    "# create_small_range_dataframe"
   ]
  },
  {
   "cell_type": "markdown",
   "id": "4d2d09f9",
   "metadata": {},
   "source": [
    "STRINGENT RANGES\n",
    "\n",
    "**DNA**\n",
    "* Helitron: 4500 bp \n",
    "* CMC: 2500 bp\n",
    "* Zator: 1800-2400 bp\n",
    "* hAT: 1000-2000 bp\n",
    "* Sola: 1- 2000-6000 bp, 2- 4000-5000 bp, 3- 5000-7000 bp\n",
    "* Tc1/Mariner: 1600 bp\n",
    "* MITE: 100-800 bp\n",
    "* Novosib: \n",
    "\n",
    "**RETRO**\n",
    "* Gypsy: 9000 bp\n",
    "* Copia: 5000 bp\n",
    "* LINEs: 5000 bp\n",
    "* SINEs: 600 bp\n",
    "* ERV: 8000 bp"
   ]
  },
  {
   "cell_type": "markdown",
   "id": "880a6bd2",
   "metadata": {},
   "source": [
    "NON-STRINGENT RANGES\n",
    "\n",
    "**DNA**\n",
    "* Helitron: 20000 bp \n",
    "* CMC: 20000 bp\n",
    "* Zator: 15000 bp\n",
    "* hAT: 20000 bp\n",
    "* Sola: 7000 bp\n",
    "* Tc1/Mariner: 20000 bp\n",
    "* MITE: 1000 bp\n",
    "* Novosib: 3000\n",
    "\n",
    "**RETRO**\n",
    "* Gypsy: 20000 bp\n",
    "* Copia: 20000 bp\n",
    "* LINEs: 10000 bp\n",
    "* SINEs: 600 bp\n",
    "* ERV: 8000 bp"
   ]
  },
  {
   "cell_type": "code",
   "execution_count": 20,
   "id": "9dd7bd90",
   "metadata": {
    "ExecuteTime": {
     "end_time": "2022-09-02T14:34:10.587906Z",
     "start_time": "2022-09-02T14:34:10.578327Z"
    }
   },
   "outputs": [],
   "source": [
    "def create_small_range_dataframe(dataframe):\n",
    "    \n",
    "    range_values = {'CMC':20000, \n",
    "                    'Helitron':20000, \n",
    "                    'Zator':15000, \n",
    "                    'hAT':20000, \n",
    "                    'Sola':7000, \n",
    "                    'Tc1-Mariner':20000,\n",
    "                    'MITE':1000, \n",
    "                    'Novosib':3000,\n",
    "                    'Copia':20000,\n",
    "                    'Gypsy':20000,\n",
    "                    'LINE':10000, \n",
    "                    'ERV':8000, \n",
    "                    'SINE':600}\n",
    "    \n",
    "    filt_counts = {'CMC':0, 'Zator':0, 'hAT':0, 'Gypsy':0, 'Copia':0, 'Sola':0, 'Tc1-Mariner':0,\n",
    "       'MITE':0, 'Helitron':0, 'Novosib':0, 'LINE':0, 'ERV':0, 'SINE':0}\n",
    "    \n",
    "    datalist = dataframe.values.tolist()\n",
    "    \n",
    "    filtered_list = []\n",
    "    elim_list = []\n",
    "    for i in range(len(datalist)):\n",
    "        family_name = datalist[i][6]\n",
    "        if datalist[i][5] <= range_values[family_name]:\n",
    "            filtered_list.append(datalist[i])\n",
    "        else:\n",
    "            elim_list.append(datalist[i])\n",
    "            \n",
    "    filtered_dataframe = pd.DataFrame(filtered_list, columns = ['Chromosome', 'Start', 'Stop', 'Score:Probability', 'Strand', 'Size',\n",
    "       'Family', 'Subclass', 'Class', 'Strain', 'Relative Start Position'])\n",
    "    elim_dataframe = pd.DataFrame(elim_list, columns = ['Chromosome', 'Start', 'Stop', 'Score:Probability', 'Strand', 'Size',\n",
    "       'Family', 'Subclass', 'Class', 'Strain', 'Relative Start Position'])\n",
    "    \n",
    "    \n",
    "    original_counts = dataframe['Family'].value_counts().to_dict()\n",
    "    \n",
    "    filtered_counts = filtered_dataframe['Family'].value_counts().to_dict()\n",
    "    elim_counts = elim_dataframe['Family'].value_counts().to_dict()\n",
    "    \n",
    "    print('fraction elimimated by filter')\n",
    "    for key in original_counts.keys():\n",
    "        filtered = (1- filtered_counts[key]/original_counts[key])\n",
    "        format_filtered = \"{:.5f}\".format(filtered)\n",
    "        print(\"{0:15} {1}\".format(key, format_filtered))\n",
    "\n",
    "#     print(elim_counts)\n",
    "\n",
    "    return filtered_dataframe, elim_dataframe"
   ]
  },
  {
   "cell_type": "markdown",
   "id": "adab7a53",
   "metadata": {},
   "source": [
    "# run"
   ]
  },
  {
   "cell_type": "markdown",
   "id": "7713d0a6",
   "metadata": {},
   "source": [
    "## define chrom lengths"
   ]
  },
  {
   "cell_type": "code",
   "execution_count": 21,
   "id": "3cde7158",
   "metadata": {
    "ExecuteTime": {
     "end_time": "2022-09-02T14:56:52.018802Z",
     "start_time": "2022-09-02T14:56:52.004969Z"
    }
   },
   "outputs": [],
   "source": [
    "chr_lengths_file = '/Users/coraalbers/Desktop/labfiles/chr_lengths.txt'\n",
    "\n",
    "N2_chr_df = get_chr_file(chr_lengths_file)[0]\n",
    "CB_chr_df = get_chr_file(chr_lengths_file)[1]\n",
    "\n",
    "\n",
    "fix_chr_names(N2_chr_df)\n",
    "fix_chr_names(CB_chr_df)"
   ]
  },
  {
   "cell_type": "markdown",
   "id": "d307955f",
   "metadata": {},
   "source": [
    "## define filenames, generate dataframes\n"
   ]
  },
  {
   "cell_type": "code",
   "execution_count": 22,
   "id": "b826b106",
   "metadata": {
    "ExecuteTime": {
     "end_time": "2022-09-02T14:57:41.022342Z",
     "start_time": "2022-09-02T14:57:27.566737Z"
    }
   },
   "outputs": [
    {
     "name": "stdout",
     "output_type": "stream",
     "text": [
      "done\n"
     ]
    }
   ],
   "source": [
    "N2_file = '/Users/coraalbers/Desktop/labfiles/reasonaTE_N2_out_LTRRet/finalResults/FinalAnnotations_Transposons.gff3'\n",
    "CB_file = '/Users/coraalbers/Desktop/labfiles/reasonaTE_CB_out_LTRRet/finalResults/FinalAnnotations_Transposons.gff3'\n",
    "\n",
    "N2_all_list = build_TE_df_from_gff3(N2_file)\n",
    "N2_all_df = N2_all_list[0]\n",
    "N2_data_list = N2_all_list[1]\n",
    "# for index, row in N2_all_df.iterrows():\n",
    "#     N2_all_df.at[index, 'Chromosome'] = 'N2_' + N2_all_df.at[index, 'Chromosome']\n",
    "length = ['N2']*len(N2_all_df.Chromosome) # add strain labels\n",
    "N2_all_df['Strain'] = length\n",
    "\n",
    "CB_all_list = build_TE_df_from_gff3(CB_file)\n",
    "CB_all_df = CB_all_list[0]\n",
    "CB_data_list = CB_all_list[1]\n",
    "# for index, row in CB_all_df.iterrows():\n",
    "#     CB_all_df.at[index, 'Chromosome'] = 'CB_' + CB_all_df.at[index, 'Chromosome']\n",
    "length2 = ['CB']*len(CB_all_df.Chromosome) # add strain labels\n",
    "CB_all_df['Strain'] = length2\n",
    "\n",
    "get_relative_positions(N2_all_df, N2_chr_df)\n",
    "get_relative_positions(CB_all_df, CB_chr_df)\n",
    "\n",
    "print('done')"
   ]
  },
  {
   "cell_type": "code",
   "execution_count": 13,
   "id": "9100118d",
   "metadata": {
    "ExecuteTime": {
     "end_time": "2022-08-31T01:59:22.393482Z",
     "start_time": "2022-08-31T01:59:22.248519Z"
    },
    "scrolled": false
   },
   "outputs": [
    {
     "name": "stdout",
     "output_type": "stream",
     "text": [
      "fraction elimimated by filter\n",
      "Zator           0.00044\n",
      "hAT             0.00025\n",
      "Tc1-Mariner     0.00107\n",
      "CMC             0.00533\n",
      "Sola            0.00243\n",
      "Gypsy           0.00358\n",
      "Copia           0.00000\n",
      "MITE            0.02817\n",
      "Novosib         0.08000\n",
      "Helitron        0.00000\n",
      "SINE            0.00000\n",
      "ERV             0.00000\n",
      "LINE            0.00000\n",
      "fraction elimimated by filter\n",
      "Zator           0.00011\n",
      "hAT             0.00026\n",
      "CMC             0.00248\n",
      "Tc1-Mariner     0.00129\n",
      "Sola            0.00851\n",
      "Gypsy           0.00337\n",
      "MITE            0.02162\n",
      "Copia           0.00000\n",
      "Helitron        0.00000\n",
      "Novosib         0.17647\n",
      "SINE            0.00000\n",
      "LINE            0.00000\n",
      "ERV             0.00000\n"
     ]
    }
   ],
   "source": [
    "N2_all_filter_list = create_small_range_dataframe(N2_all_df)\n",
    "N2_all_filter_df = N2_all_filter_list[0]\n",
    "N2_elim_df = N2_all_filter_list[1]\n",
    "\n",
    "CB_all_filter_list = create_small_range_dataframe(CB_all_df)\n",
    "CB_all_filter_df = CB_all_filter_list[0]\n",
    "CB_elim_df = CB_all_filter_list[1]\n",
    "\n",
    "length = ['N2']*len(N2_all_filter_df.Chromosome)\n",
    "N2_all_filter_df['Strain'] = length\n",
    "\n",
    "length2 = ['CB']*len(CB_all_filter_df.Chromosome)\n",
    "CB_all_filter_df['Strain'] = length2\n",
    "\n",
    "all_filter_df = pd.concat([N2_all_filter_df, CB_all_filter_df])\n",
    "\n",
    "N2_dna_tes = N2_all_filter_df[N2_all_filter_df['Class']=='DNATransposon']\n",
    "N2_retro_tes = N2_all_filter_df[N2_all_filter_df['Class']!='DNATransposon']\n",
    "\n",
    "CB_dna_tes = CB_all_filter_df[CB_all_filter_df['Class']=='DNATransposon']\n",
    "CB_retro_tes = CB_all_filter_df[CB_all_filter_df['Class']!='DNATransposon']\n",
    "\n",
    "all_dna_tes = pd.concat([N2_dna_tes, CB_dna_tes])\n",
    "all_retro_tes = pd.concat([N2_retro_tes, CB_retro_tes])\n"
   ]
  },
  {
   "cell_type": "markdown",
   "id": "8a779bc8",
   "metadata": {},
   "source": [
    "## make CB gff3"
   ]
  },
  {
   "cell_type": "code",
   "execution_count": 16,
   "id": "9a276f85",
   "metadata": {
    "ExecuteTime": {
     "end_time": "2022-08-31T02:04:29.375081Z",
     "start_time": "2022-08-31T02:04:29.193870Z"
    },
    "scrolled": false
   },
   "outputs": [
    {
     "name": "stdout",
     "output_type": "stream",
     "text": [
      "intial 18113\n",
      "final 18086\n"
     ]
    }
   ],
   "source": [
    "print('intial', len(CB_data_list))\n",
    "pop_list = []\n",
    "for index, row in CB_elim_df.iterrows():\n",
    "    \n",
    "    te_start = int(CB_elim_df.at[index, 'Start'])\n",
    "    \n",
    "    \n",
    "    for i in range(len(CB_data_list)):\n",
    "        \n",
    "        if int(CB_data_list[i][3]) == te_start:\n",
    "#             print(i)\n",
    "            pop_list.append(i)\n",
    "len(pop_list)\n",
    "            \n",
    "for i in sorted(pop_list, reverse=True):\n",
    "    CB_data_list.pop(i)          \n",
    "print('final', len(CB_data_list))\n",
    "\n",
    "# with open(\"CB_filter2.gff3\", \"w\") as f:\n",
    "#     wr = csv.writer(f, delimiter = '\\t')\n",
    "#     wr.writerows(CB_data_list)"
   ]
  },
  {
   "cell_type": "markdown",
   "id": "e8fb25bf",
   "metadata": {},
   "source": [
    "## make N2 gff3"
   ]
  },
  {
   "cell_type": "code",
   "execution_count": 17,
   "id": "ed26b15e",
   "metadata": {
    "ExecuteTime": {
     "end_time": "2022-08-31T02:04:30.426116Z",
     "start_time": "2022-08-31T02:04:30.205837Z"
    }
   },
   "outputs": [
    {
     "name": "stdout",
     "output_type": "stream",
     "text": [
      "initial 18419\n",
      "final 18392\n"
     ]
    }
   ],
   "source": [
    "print('initial', len(N2_data_list))\n",
    "pop_list2 = []\n",
    "for index, row in N2_elim_df.iterrows():\n",
    "    \n",
    "    te_start = N2_elim_df.at[index, 'Start']\n",
    "    \n",
    "    \n",
    "    for i in range(len(N2_data_list)):\n",
    "        \n",
    "        if int(N2_data_list[i][3]) == te_start:\n",
    "#             print(i)\n",
    "            pop_list2.append(i)\n",
    "len(pop_list2)\n",
    "            \n",
    "for i in sorted(pop_list2, reverse=True):\n",
    "    N2_data_list.pop(i)          \n",
    "\n",
    "print('final', len(N2_data_list))\n",
    "\n",
    "# with open(\"N2_filter2.gff3\", \"w\") as f:\n",
    "#     wr = csv.writer(f, delimiter = '\\t')\n",
    "#     wr.writerows(N2_data_list)"
   ]
  },
  {
   "cell_type": "markdown",
   "id": "32c6d29f",
   "metadata": {},
   "source": [
    "## get index of largest TE in N2 and make histogram\n",
    "returns the dataframe index of the largest TE that was removed from the dataset and creates a histogram of the eliminated TEs along size x-axis"
   ]
  },
  {
   "cell_type": "code",
   "execution_count": 15,
   "id": "b9544089",
   "metadata": {
    "ExecuteTime": {
     "end_time": "2022-08-08T01:38:10.758916Z",
     "start_time": "2022-08-08T01:38:10.469782Z"
    },
    "scrolled": false
   },
   "outputs": [
    {
     "name": "stdout",
     "output_type": "stream",
     "text": [
      "3\n",
      "Tc1-Mariner\n"
     ]
    },
    {
     "data": {
      "text/html": [
       "<div>\n",
       "<style scoped>\n",
       "    .dataframe tbody tr th:only-of-type {\n",
       "        vertical-align: middle;\n",
       "    }\n",
       "\n",
       "    .dataframe tbody tr th {\n",
       "        vertical-align: top;\n",
       "    }\n",
       "\n",
       "    .dataframe thead th {\n",
       "        text-align: right;\n",
       "    }\n",
       "</style>\n",
       "<table border=\"1\" class=\"dataframe\">\n",
       "  <thead>\n",
       "    <tr style=\"text-align: right;\">\n",
       "      <th></th>\n",
       "      <th>Chromosome</th>\n",
       "      <th>Start</th>\n",
       "      <th>Stop</th>\n",
       "      <th>Score:Probability</th>\n",
       "      <th>Strand</th>\n",
       "      <th>Size</th>\n",
       "      <th>Family</th>\n",
       "      <th>Subclass</th>\n",
       "      <th>Class</th>\n",
       "      <th>Strain</th>\n",
       "      <th>Relative Start Position</th>\n",
       "    </tr>\n",
       "  </thead>\n",
       "  <tbody>\n",
       "    <tr>\n",
       "      <th>0</th>\n",
       "      <td>Chr I</td>\n",
       "      <td>4552762</td>\n",
       "      <td>4785564</td>\n",
       "      <td>22.0</td>\n",
       "      <td>-</td>\n",
       "      <td>232802</td>\n",
       "      <td>Tc1-Mariner</td>\n",
       "      <td>TIR</td>\n",
       "      <td>DNATransposon</td>\n",
       "      <td>N2</td>\n",
       "      <td>0.301227</td>\n",
       "    </tr>\n",
       "    <tr>\n",
       "      <th>1</th>\n",
       "      <td>Chr I</td>\n",
       "      <td>4824850</td>\n",
       "      <td>4835599</td>\n",
       "      <td>14:6</td>\n",
       "      <td>+</td>\n",
       "      <td>10749</td>\n",
       "      <td>Novosib</td>\n",
       "      <td>TIR</td>\n",
       "      <td>DNATransposon</td>\n",
       "      <td>N2</td>\n",
       "      <td>0.319229</td>\n",
       "    </tr>\n",
       "    <tr>\n",
       "      <th>2</th>\n",
       "      <td>Chr I</td>\n",
       "      <td>11757630</td>\n",
       "      <td>11761213</td>\n",
       "      <td>.</td>\n",
       "      <td>+</td>\n",
       "      <td>3583</td>\n",
       "      <td>Novosib</td>\n",
       "      <td>TIR</td>\n",
       "      <td>DNATransposon</td>\n",
       "      <td>N2</td>\n",
       "      <td>0.777926</td>\n",
       "    </tr>\n",
       "    <tr>\n",
       "      <th>3</th>\n",
       "      <td>Chr I</td>\n",
       "      <td>12459191</td>\n",
       "      <td>13021335</td>\n",
       "      <td>8.0</td>\n",
       "      <td>-</td>\n",
       "      <td>562144</td>\n",
       "      <td>Tc1-Mariner</td>\n",
       "      <td>TIR</td>\n",
       "      <td>DNATransposon</td>\n",
       "      <td>N2</td>\n",
       "      <td>0.824344</td>\n",
       "    </tr>\n",
       "    <tr>\n",
       "      <th>4</th>\n",
       "      <td>Chr I</td>\n",
       "      <td>12635952</td>\n",
       "      <td>12789632</td>\n",
       "      <td>3.0</td>\n",
       "      <td>-</td>\n",
       "      <td>153680</td>\n",
       "      <td>CMC</td>\n",
       "      <td>TIR</td>\n",
       "      <td>DNATransposon</td>\n",
       "      <td>N2</td>\n",
       "      <td>0.836039</td>\n",
       "    </tr>\n",
       "    <tr>\n",
       "      <th>5</th>\n",
       "      <td>Chr I</td>\n",
       "      <td>14253089</td>\n",
       "      <td>14310632</td>\n",
       "      <td>3.0</td>\n",
       "      <td>+</td>\n",
       "      <td>57543</td>\n",
       "      <td>Gypsy</td>\n",
       "      <td>LTR</td>\n",
       "      <td>Retrotransposon</td>\n",
       "      <td>N2</td>\n",
       "      <td>0.943035</td>\n",
       "    </tr>\n",
       "    <tr>\n",
       "      <th>6</th>\n",
       "      <td>Chr II</td>\n",
       "      <td>1448835</td>\n",
       "      <td>1464542</td>\n",
       "      <td>6:5</td>\n",
       "      <td>+</td>\n",
       "      <td>15707</td>\n",
       "      <td>Zator</td>\n",
       "      <td>TIR</td>\n",
       "      <td>DNATransposon</td>\n",
       "      <td>N2</td>\n",
       "      <td>0.094622</td>\n",
       "    </tr>\n",
       "    <tr>\n",
       "      <th>7</th>\n",
       "      <td>Chr II</td>\n",
       "      <td>13342423</td>\n",
       "      <td>13359148</td>\n",
       "      <td>5:5</td>\n",
       "      <td>-</td>\n",
       "      <td>16725</td>\n",
       "      <td>Zator</td>\n",
       "      <td>TIR</td>\n",
       "      <td>DNATransposon</td>\n",
       "      <td>N2</td>\n",
       "      <td>0.871379</td>\n",
       "    </tr>\n",
       "    <tr>\n",
       "      <th>8</th>\n",
       "      <td>Chr II</td>\n",
       "      <td>14319868</td>\n",
       "      <td>14518301</td>\n",
       "      <td>8.0</td>\n",
       "      <td>+</td>\n",
       "      <td>198433</td>\n",
       "      <td>CMC</td>\n",
       "      <td>TIR</td>\n",
       "      <td>DNATransposon</td>\n",
       "      <td>N2</td>\n",
       "      <td>0.935215</td>\n",
       "    </tr>\n",
       "    <tr>\n",
       "      <th>9</th>\n",
       "      <td>Chr II</td>\n",
       "      <td>14804906</td>\n",
       "      <td>15026182</td>\n",
       "      <td>13.0</td>\n",
       "      <td>-</td>\n",
       "      <td>221276</td>\n",
       "      <td>CMC</td>\n",
       "      <td>TIR</td>\n",
       "      <td>DNATransposon</td>\n",
       "      <td>N2</td>\n",
       "      <td>0.966892</td>\n",
       "    </tr>\n",
       "    <tr>\n",
       "      <th>10</th>\n",
       "      <td>Chr III</td>\n",
       "      <td>5368480</td>\n",
       "      <td>5373844</td>\n",
       "      <td>.</td>\n",
       "      <td>+</td>\n",
       "      <td>5364</td>\n",
       "      <td>MITE</td>\n",
       "      <td>...</td>\n",
       "      <td>DNATransposon</td>\n",
       "      <td>N2</td>\n",
       "      <td>0.388473</td>\n",
       "    </tr>\n",
       "    <tr>\n",
       "      <th>11</th>\n",
       "      <td>Chr III</td>\n",
       "      <td>5503496</td>\n",
       "      <td>5507524</td>\n",
       "      <td>.</td>\n",
       "      <td>+</td>\n",
       "      <td>4028</td>\n",
       "      <td>Novosib</td>\n",
       "      <td>TIR</td>\n",
       "      <td>DNATransposon</td>\n",
       "      <td>N2</td>\n",
       "      <td>0.398243</td>\n",
       "    </tr>\n",
       "    <tr>\n",
       "      <th>12</th>\n",
       "      <td>Chr III</td>\n",
       "      <td>6833073</td>\n",
       "      <td>6852855</td>\n",
       "      <td>9:5</td>\n",
       "      <td>+</td>\n",
       "      <td>19782</td>\n",
       "      <td>Zator</td>\n",
       "      <td>TIR</td>\n",
       "      <td>DNATransposon</td>\n",
       "      <td>N2</td>\n",
       "      <td>0.494453</td>\n",
       "    </tr>\n",
       "    <tr>\n",
       "      <th>13</th>\n",
       "      <td>Chr III</td>\n",
       "      <td>11186975</td>\n",
       "      <td>11314628</td>\n",
       "      <td>19.0</td>\n",
       "      <td>-</td>\n",
       "      <td>127653</td>\n",
       "      <td>hAT</td>\n",
       "      <td>TIR</td>\n",
       "      <td>DNATransposon</td>\n",
       "      <td>N2</td>\n",
       "      <td>0.809509</td>\n",
       "    </tr>\n",
       "    <tr>\n",
       "      <th>14</th>\n",
       "      <td>Chr III</td>\n",
       "      <td>12649182</td>\n",
       "      <td>12728845</td>\n",
       "      <td>15.0</td>\n",
       "      <td>-</td>\n",
       "      <td>79663</td>\n",
       "      <td>CMC</td>\n",
       "      <td>TIR</td>\n",
       "      <td>DNATransposon</td>\n",
       "      <td>N2</td>\n",
       "      <td>0.915317</td>\n",
       "    </tr>\n",
       "    <tr>\n",
       "      <th>15</th>\n",
       "      <td>Chr III</td>\n",
       "      <td>12931362</td>\n",
       "      <td>12952028</td>\n",
       "      <td>13.0</td>\n",
       "      <td>-</td>\n",
       "      <td>20666</td>\n",
       "      <td>CMC</td>\n",
       "      <td>TIR</td>\n",
       "      <td>DNATransposon</td>\n",
       "      <td>N2</td>\n",
       "      <td>0.935736</td>\n",
       "    </tr>\n",
       "    <tr>\n",
       "      <th>16</th>\n",
       "      <td>Chr III</td>\n",
       "      <td>12951795</td>\n",
       "      <td>12961419</td>\n",
       "      <td>.</td>\n",
       "      <td>+</td>\n",
       "      <td>9624</td>\n",
       "      <td>Sola</td>\n",
       "      <td>TIR</td>\n",
       "      <td>DNATransposon</td>\n",
       "      <td>N2</td>\n",
       "      <td>0.937215</td>\n",
       "    </tr>\n",
       "    <tr>\n",
       "      <th>17</th>\n",
       "      <td>Chr IV</td>\n",
       "      <td>12022085</td>\n",
       "      <td>12025996</td>\n",
       "      <td>12:6</td>\n",
       "      <td>+</td>\n",
       "      <td>3911</td>\n",
       "      <td>MITE</td>\n",
       "      <td>...</td>\n",
       "      <td>DNATransposon</td>\n",
       "      <td>N2</td>\n",
       "      <td>0.687218</td>\n",
       "    </tr>\n",
       "    <tr>\n",
       "      <th>18</th>\n",
       "      <td>Chr IV</td>\n",
       "      <td>12138106</td>\n",
       "      <td>12246151</td>\n",
       "      <td>50.0</td>\n",
       "      <td>-</td>\n",
       "      <td>108045</td>\n",
       "      <td>CMC</td>\n",
       "      <td>TIR</td>\n",
       "      <td>DNATransposon</td>\n",
       "      <td>N2</td>\n",
       "      <td>0.693850</td>\n",
       "    </tr>\n",
       "    <tr>\n",
       "      <th>19</th>\n",
       "      <td>Chr IV</td>\n",
       "      <td>15063755</td>\n",
       "      <td>15083128</td>\n",
       "      <td>7:7</td>\n",
       "      <td>+</td>\n",
       "      <td>19373</td>\n",
       "      <td>Zator</td>\n",
       "      <td>TIR</td>\n",
       "      <td>DNATransposon</td>\n",
       "      <td>N2</td>\n",
       "      <td>0.861089</td>\n",
       "    </tr>\n",
       "    <tr>\n",
       "      <th>20</th>\n",
       "      <td>Chr V</td>\n",
       "      <td>2327559</td>\n",
       "      <td>2330643</td>\n",
       "      <td>.</td>\n",
       "      <td>+</td>\n",
       "      <td>3084</td>\n",
       "      <td>Novosib</td>\n",
       "      <td>TIR</td>\n",
       "      <td>DNATransposon</td>\n",
       "      <td>N2</td>\n",
       "      <td>0.111081</td>\n",
       "    </tr>\n",
       "    <tr>\n",
       "      <th>21</th>\n",
       "      <td>Chr V</td>\n",
       "      <td>3232232</td>\n",
       "      <td>3340186</td>\n",
       "      <td>7.0</td>\n",
       "      <td>+</td>\n",
       "      <td>107954</td>\n",
       "      <td>Gypsy</td>\n",
       "      <td>LTR</td>\n",
       "      <td>Retrotransposon</td>\n",
       "      <td>N2</td>\n",
       "      <td>0.154256</td>\n",
       "    </tr>\n",
       "    <tr>\n",
       "      <th>22</th>\n",
       "      <td>Chr V</td>\n",
       "      <td>9661087</td>\n",
       "      <td>9718173</td>\n",
       "      <td>10.0</td>\n",
       "      <td>-</td>\n",
       "      <td>57086</td>\n",
       "      <td>CMC</td>\n",
       "      <td>TIR</td>\n",
       "      <td>DNATransposon</td>\n",
       "      <td>N2</td>\n",
       "      <td>0.461069</td>\n",
       "    </tr>\n",
       "    <tr>\n",
       "      <th>23</th>\n",
       "      <td>Chr V</td>\n",
       "      <td>20193882</td>\n",
       "      <td>20217634</td>\n",
       "      <td>3.0</td>\n",
       "      <td>+</td>\n",
       "      <td>23752</td>\n",
       "      <td>CMC</td>\n",
       "      <td>TIR</td>\n",
       "      <td>DNATransposon</td>\n",
       "      <td>N2</td>\n",
       "      <td>0.963740</td>\n",
       "    </tr>\n",
       "    <tr>\n",
       "      <th>24</th>\n",
       "      <td>X Chr</td>\n",
       "      <td>1270102</td>\n",
       "      <td>1278293</td>\n",
       "      <td>.</td>\n",
       "      <td>+</td>\n",
       "      <td>8191</td>\n",
       "      <td>Sola</td>\n",
       "      <td>TIR</td>\n",
       "      <td>DNATransposon</td>\n",
       "      <td>N2</td>\n",
       "      <td>0.071599</td>\n",
       "    </tr>\n",
       "    <tr>\n",
       "      <th>25</th>\n",
       "      <td>X Chr</td>\n",
       "      <td>12453990</td>\n",
       "      <td>12729417</td>\n",
       "      <td>9.0</td>\n",
       "      <td>-</td>\n",
       "      <td>275427</td>\n",
       "      <td>CMC</td>\n",
       "      <td>TIR</td>\n",
       "      <td>DNATransposon</td>\n",
       "      <td>N2</td>\n",
       "      <td>0.702063</td>\n",
       "    </tr>\n",
       "  </tbody>\n",
       "</table>\n",
       "</div>"
      ],
      "text/plain": [
       "   Chromosome     Start      Stop Score:Probability Strand    Size  \\\n",
       "0       Chr I   4552762   4785564              22.0      -  232802   \n",
       "1       Chr I   4824850   4835599              14:6      +   10749   \n",
       "2       Chr I  11757630  11761213                 .      +    3583   \n",
       "3       Chr I  12459191  13021335               8.0      -  562144   \n",
       "4       Chr I  12635952  12789632               3.0      -  153680   \n",
       "5       Chr I  14253089  14310632               3.0      +   57543   \n",
       "6      Chr II   1448835   1464542               6:5      +   15707   \n",
       "7      Chr II  13342423  13359148               5:5      -   16725   \n",
       "8      Chr II  14319868  14518301               8.0      +  198433   \n",
       "9      Chr II  14804906  15026182              13.0      -  221276   \n",
       "10    Chr III   5368480   5373844                 .      +    5364   \n",
       "11    Chr III   5503496   5507524                 .      +    4028   \n",
       "12    Chr III   6833073   6852855               9:5      +   19782   \n",
       "13    Chr III  11186975  11314628              19.0      -  127653   \n",
       "14    Chr III  12649182  12728845              15.0      -   79663   \n",
       "15    Chr III  12931362  12952028              13.0      -   20666   \n",
       "16    Chr III  12951795  12961419                 .      +    9624   \n",
       "17     Chr IV  12022085  12025996              12:6      +    3911   \n",
       "18     Chr IV  12138106  12246151              50.0      -  108045   \n",
       "19     Chr IV  15063755  15083128               7:7      +   19373   \n",
       "20      Chr V   2327559   2330643                 .      +    3084   \n",
       "21      Chr V   3232232   3340186               7.0      +  107954   \n",
       "22      Chr V   9661087   9718173              10.0      -   57086   \n",
       "23      Chr V  20193882  20217634               3.0      +   23752   \n",
       "24      X Chr   1270102   1278293                 .      +    8191   \n",
       "25      X Chr  12453990  12729417               9.0      -  275427   \n",
       "\n",
       "         Family Subclass            Class Strain  Relative Start Position  \n",
       "0   Tc1-Mariner      TIR    DNATransposon     N2                 0.301227  \n",
       "1       Novosib      TIR    DNATransposon     N2                 0.319229  \n",
       "2       Novosib      TIR    DNATransposon     N2                 0.777926  \n",
       "3   Tc1-Mariner      TIR    DNATransposon     N2                 0.824344  \n",
       "4           CMC      TIR    DNATransposon     N2                 0.836039  \n",
       "5         Gypsy      LTR  Retrotransposon     N2                 0.943035  \n",
       "6         Zator      TIR    DNATransposon     N2                 0.094622  \n",
       "7         Zator      TIR    DNATransposon     N2                 0.871379  \n",
       "8           CMC      TIR    DNATransposon     N2                 0.935215  \n",
       "9           CMC      TIR    DNATransposon     N2                 0.966892  \n",
       "10         MITE      ...    DNATransposon     N2                 0.388473  \n",
       "11      Novosib      TIR    DNATransposon     N2                 0.398243  \n",
       "12        Zator      TIR    DNATransposon     N2                 0.494453  \n",
       "13          hAT      TIR    DNATransposon     N2                 0.809509  \n",
       "14          CMC      TIR    DNATransposon     N2                 0.915317  \n",
       "15          CMC      TIR    DNATransposon     N2                 0.935736  \n",
       "16         Sola      TIR    DNATransposon     N2                 0.937215  \n",
       "17         MITE      ...    DNATransposon     N2                 0.687218  \n",
       "18          CMC      TIR    DNATransposon     N2                 0.693850  \n",
       "19        Zator      TIR    DNATransposon     N2                 0.861089  \n",
       "20      Novosib      TIR    DNATransposon     N2                 0.111081  \n",
       "21        Gypsy      LTR  Retrotransposon     N2                 0.154256  \n",
       "22          CMC      TIR    DNATransposon     N2                 0.461069  \n",
       "23          CMC      TIR    DNATransposon     N2                 0.963740  \n",
       "24         Sola      TIR    DNATransposon     N2                 0.071599  \n",
       "25          CMC      TIR    DNATransposon     N2                 0.702063  "
      ]
     },
     "execution_count": 15,
     "metadata": {},
     "output_type": "execute_result"
    },
    {
     "data": {
      "image/png": "[encoded data removed]",
      "text/plain": [
       "<Figure size 400x400 with 1 Axes>"
      ]
     },
     "metadata": {
      "image/png": {
       "height": 400,
       "width": 400
      }
     },
     "output_type": "display_data"
    }
   ],
   "source": [
    "test = N2_elim_df[N2_elim_df['Family'] == 'CMC']\n",
    "sns.histplot(N2_elim_df, x = 'Size')\n",
    "i = N2_elim_df['Size'].idxmax()\n",
    "print(i)\n",
    "print(N2_elim_df['Family'][i])\n",
    "N2_elim_df"
   ]
  },
  {
   "cell_type": "markdown",
   "id": "2bce6b6d",
   "metadata": {},
   "source": [
    "# calculate percent of genome that is TEs"
   ]
  },
  {
   "cell_type": "code",
   "execution_count": 15,
   "id": "f8cc4cb9",
   "metadata": {
    "ExecuteTime": {
     "end_time": "2022-08-31T02:00:19.559582Z",
     "start_time": "2022-08-31T02:00:19.552885Z"
    },
    "scrolled": true
   },
   "outputs": [
    {
     "name": "stdout",
     "output_type": "stream",
     "text": [
      "14128385\n"
     ]
    },
    {
     "data": {
      "text/plain": [
       "0.14296209923841163"
      ]
     },
     "execution_count": 15,
     "metadata": {},
     "output_type": "execute_result"
    }
   ],
   "source": [
    "cbnumber = CB_all_filter_df['Size'].sum()\n",
    "print(cbnumber)\n",
    "cbnumber / 98826088"
   ]
  },
  {
   "cell_type": "code",
   "execution_count": 14,
   "id": "5af62d0d",
   "metadata": {
    "ExecuteTime": {
     "end_time": "2022-08-31T02:00:12.583527Z",
     "start_time": "2022-08-31T02:00:12.576406Z"
    }
   },
   "outputs": [
    {
     "name": "stdout",
     "output_type": "stream",
     "text": [
      "14744236\n"
     ]
    },
    {
     "data": {
      "text/plain": [
       "0.14680816341486413"
      ]
     },
     "execution_count": 14,
     "metadata": {},
     "output_type": "execute_result"
    }
   ],
   "source": [
    "n2num = N2_all_filter_df['Size'].sum()\n",
    "print(n2num)\n",
    "n2num / 100431990"
   ]
  }
 ],
 "metadata": {
  "_draft": {
   "nbviewer_url": "https://gist.github.com/358760d4a6cd6836d31ee39d40c62010"
  },
  "gist": {
   "data": {
    "description": "Desktop/labfiles/reasonaTE_N2_out_final/TEUlt_reasonaTE_gff_USE_4_LTRRet_smalldf.ipynb, remaking plots with the size filtered data",
    "public": false
   },
   "id": "358760d4a6cd6836d31ee39d40c62010"
  },
  "kernelspec": {
   "display_name": "Python 3 (ipykernel)",
   "language": "python",
   "name": "python3"
  },
  "language_info": {
   "codemirror_mode": {
    "name": "ipython",
    "version": 3
   },
   "file_extension": ".py",
   "mimetype": "text/x-python",
   "name": "python",
   "nbconvert_exporter": "python",
   "pygments_lexer": "ipython3",
   "version": "3.10.2"
  },
  "notify_time": "0",
  "toc": {
   "base_numbering": 1,
   "nav_menu": {},
   "number_sections": true,
   "sideBar": false,
   "skip_h1_title": false,
   "title_cell": "Table of Contents",
   "title_sidebar": "Contents",
   "toc_cell": true,
   "toc_position": {
    "height": "214.717px",
    "left": "1467px",
    "top": "110.2px",
    "width": "300.867px"
   },
   "toc_section_display": true,
   "toc_window_display": true
  },
  "toc-autonumbering": true,
  "toc-showtags": false,
  "varInspector": {
   "cols": {
    "lenName": 16,
    "lenType": 16,
    "lenVar": 40
   },
   "kernels_config": {
    "python": {
     "delete_cmd_postfix": "",
     "delete_cmd_prefix": "del ",
     "library": "var_list.py",
     "varRefreshCmd": "print(var_dic_list())"
    },
    "r": {
     "delete_cmd_postfix": ") ",
     "delete_cmd_prefix": "rm(",
     "library": "var_list.r",
     "varRefreshCmd": "cat(var_dic_list()) "
    }
   },
   "position": {
    "height": "231.583px",
    "left": "1454px",
    "right": "20px",
    "top": "120px",
    "width": "350px"
   },
   "types_to_exclude": [
    "module",
    "function",
    "builtin_function_or_method",
    "instance",
    "_Feature"
   ],
   "window_display": false
  }
 },
 "nbformat": 4,
 "nbformat_minor": 5
}
